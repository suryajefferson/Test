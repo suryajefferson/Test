{
 "cells": [
  {
   "cell_type": "markdown",
   "metadata": {},
   "source": [
    "Importing Libraries"
   ]
  },
  {
   "cell_type": "markdown",
   "metadata": {},
   "source": [
    "  - `pandas` as `pd` for data manipulation and analysis.\n",
    "  - `numpy` as `np` for numerical operations.\n",
    "  - `matplotlib.pyplot` as `plt` for creating visualizations.\n",
    "  - `ast` for safely evaluating strings into python objects.\n",
    "  - `seaborn` as `sns` for statistical data visualization and enhanced plotting.\n"
   ]
  },
  {
   "cell_type": "code",
   "execution_count": 51,
   "metadata": {},
   "outputs": [],
   "source": [
    "import pandas as pd\n",
    "import numpy as np\n",
    "import matplotlib.pyplot as plt\n",
    "import ast  \n",
    "import seaborn as sns"
   ]
  },
  {
   "cell_type": "markdown",
   "metadata": {},
   "source": [
    "##### Loading Data"
   ]
  },
  {
   "cell_type": "markdown",
   "metadata": {},
   "source": [
    "- **Reading CSV File:** reading a csv file  into a dataframe named `df`, which is used for data analysis and manipulation.\n"
   ]
  },
  {
   "cell_type": "code",
   "execution_count": 52,
   "metadata": {},
   "outputs": [
    {
     "data": {
      "text/html": [
       "<div>\n",
       "<style scoped>\n",
       "    .dataframe tbody tr th:only-of-type {\n",
       "        vertical-align: middle;\n",
       "    }\n",
       "\n",
       "    .dataframe tbody tr th {\n",
       "        vertical-align: top;\n",
       "    }\n",
       "\n",
       "    .dataframe thead th {\n",
       "        text-align: right;\n",
       "    }\n",
       "</style>\n",
       "<table border=\"1\" class=\"dataframe\">\n",
       "  <thead>\n",
       "    <tr style=\"text-align: right;\">\n",
       "      <th></th>\n",
       "      <th>job_title_short</th>\n",
       "      <th>job_title</th>\n",
       "      <th>job_location</th>\n",
       "      <th>job_via</th>\n",
       "      <th>job_schedule_type</th>\n",
       "      <th>job_work_from_home</th>\n",
       "      <th>search_location</th>\n",
       "      <th>job_posted_date</th>\n",
       "      <th>job_no_degree_mention</th>\n",
       "      <th>job_health_insurance</th>\n",
       "      <th>job_country</th>\n",
       "      <th>salary_rate</th>\n",
       "      <th>salary_year_avg</th>\n",
       "      <th>salary_hour_avg</th>\n",
       "      <th>company_name</th>\n",
       "      <th>job_skills</th>\n",
       "      <th>job_type_skills</th>\n",
       "    </tr>\n",
       "  </thead>\n",
       "  <tbody>\n",
       "    <tr>\n",
       "      <th>506796</th>\n",
       "      <td>Data Scientist</td>\n",
       "      <td>Data Scientist Technical Specialist</td>\n",
       "      <td>Chantilly, VA</td>\n",
       "      <td>via Monster</td>\n",
       "      <td>Full-time</td>\n",
       "      <td>False</td>\n",
       "      <td>New York, United States</td>\n",
       "      <td>2023-01-24 11:03:53</td>\n",
       "      <td>False</td>\n",
       "      <td>False</td>\n",
       "      <td>United States</td>\n",
       "      <td>NaN</td>\n",
       "      <td>NaN</td>\n",
       "      <td>NaN</td>\n",
       "      <td>Peraton</td>\n",
       "      <td>['python']</td>\n",
       "      <td>{'programming': ['python']}</td>\n",
       "    </tr>\n",
       "    <tr>\n",
       "      <th>351366</th>\n",
       "      <td>Business Analyst</td>\n",
       "      <td>Marketing Analyst</td>\n",
       "      <td>Jalisco del Refugio, Jalisco, Mexico</td>\n",
       "      <td>via BeBee México</td>\n",
       "      <td>Full-time</td>\n",
       "      <td>False</td>\n",
       "      <td>Mexico</td>\n",
       "      <td>2023-03-08 23:21:50</td>\n",
       "      <td>False</td>\n",
       "      <td>False</td>\n",
       "      <td>Mexico</td>\n",
       "      <td>NaN</td>\n",
       "      <td>NaN</td>\n",
       "      <td>NaN</td>\n",
       "      <td>Amcor</td>\n",
       "      <td>['powerpoint']</td>\n",
       "      <td>{'analyst_tools': ['powerpoint']}</td>\n",
       "    </tr>\n",
       "  </tbody>\n",
       "</table>\n",
       "</div>"
      ],
      "text/plain": [
       "         job_title_short                            job_title  \\\n",
       "506796    Data Scientist  Data Scientist Technical Specialist   \n",
       "351366  Business Analyst                    Marketing Analyst   \n",
       "\n",
       "                                job_location           job_via  \\\n",
       "506796                         Chantilly, VA       via Monster   \n",
       "351366  Jalisco del Refugio, Jalisco, Mexico  via BeBee México   \n",
       "\n",
       "       job_schedule_type  job_work_from_home          search_location  \\\n",
       "506796         Full-time               False  New York, United States   \n",
       "351366         Full-time               False                   Mexico   \n",
       "\n",
       "            job_posted_date  job_no_degree_mention  job_health_insurance  \\\n",
       "506796  2023-01-24 11:03:53                  False                 False   \n",
       "351366  2023-03-08 23:21:50                  False                 False   \n",
       "\n",
       "          job_country salary_rate  salary_year_avg  salary_hour_avg  \\\n",
       "506796  United States         NaN              NaN              NaN   \n",
       "351366         Mexico         NaN              NaN              NaN   \n",
       "\n",
       "       company_name      job_skills                    job_type_skills  \n",
       "506796      Peraton      ['python']        {'programming': ['python']}  \n",
       "351366        Amcor  ['powerpoint']  {'analyst_tools': ['powerpoint']}  "
      ]
     },
     "execution_count": 52,
     "metadata": {},
     "output_type": "execute_result"
    }
   ],
   "source": [
    "df = pd.read_csv(r'D:\\Python\\Python course\\data_jobs.csv')\n",
    "df.sample(2)"
   ]
  },
  {
   "cell_type": "markdown",
   "metadata": {},
   "source": [
    "##### Data Cleanup"
   ]
  },
  {
   "cell_type": "markdown",
   "metadata": {},
   "source": [
    "- **Renaming Columns:** assigning new column names to the dataframe.\n",
    "\n",
    "- **Converting Dates:** using `pd.to_datetime()` to change the 'posted_dt' column from string to datetime format.\n",
    "\n",
    "- **Converting Skills:**\n",
    "  - using `.apply() `function to convert 'skills' from string to list format by applying a custom function to  every row of a dataFrame.\n",
    "  - using `ast.literal_eval()` to evaluate and convert strings to python objects.\n",
    "  - ensuring conversion only happens if the value is not missing using `pd.notna(gg)`.\n",
    "\n",
    "- **Handling Missing Values:** optionally dropping rows with missing values in the 'salyr' column using `df.dropna()` (commented out)."
   ]
  },
  {
   "cell_type": "code",
   "execution_count": 53,
   "metadata": {},
   "outputs": [],
   "source": [
    "new_columns = ['job', 'full_name', 'location', 'via', 'schedule', 'work_from_home','search_location','posted_dt','no_degree','health_ins','country','salrate','salyr','salhr','company','skills','skilltype']\n",
    "df.columns = new_columns\n",
    "\n",
    "# data clean up\n",
    "df['posted_dt'] = pd.to_datetime(df['posted_dt']) \n",
    "df['skills'] = df['skills'].apply(lambda gg: ast.literal_eval(gg) if pd.notna(gg) else gg)\n",
    "#df.dropna(subset=['salyr'],inplace=True)"
   ]
  },
  {
   "cell_type": "markdown",
   "metadata": {},
   "source": [
    "Random sample of 2 rows from the modified dataFrame `df`"
   ]
  },
  {
   "cell_type": "code",
   "execution_count": 54,
   "metadata": {},
   "outputs": [
    {
     "data": {
      "text/html": [
       "<div>\n",
       "<style scoped>\n",
       "    .dataframe tbody tr th:only-of-type {\n",
       "        vertical-align: middle;\n",
       "    }\n",
       "\n",
       "    .dataframe tbody tr th {\n",
       "        vertical-align: top;\n",
       "    }\n",
       "\n",
       "    .dataframe thead th {\n",
       "        text-align: right;\n",
       "    }\n",
       "</style>\n",
       "<table border=\"1\" class=\"dataframe\">\n",
       "  <thead>\n",
       "    <tr style=\"text-align: right;\">\n",
       "      <th></th>\n",
       "      <th>job</th>\n",
       "      <th>full_name</th>\n",
       "      <th>location</th>\n",
       "      <th>via</th>\n",
       "      <th>schedule</th>\n",
       "      <th>work_from_home</th>\n",
       "      <th>search_location</th>\n",
       "      <th>posted_dt</th>\n",
       "      <th>no_degree</th>\n",
       "      <th>health_ins</th>\n",
       "      <th>country</th>\n",
       "      <th>salrate</th>\n",
       "      <th>salyr</th>\n",
       "      <th>salhr</th>\n",
       "      <th>company</th>\n",
       "      <th>skills</th>\n",
       "      <th>skilltype</th>\n",
       "    </tr>\n",
       "  </thead>\n",
       "  <tbody>\n",
       "    <tr>\n",
       "      <th>565977</th>\n",
       "      <td>Software Engineer</td>\n",
       "      <td>Support &amp; Deployment Engineer</td>\n",
       "      <td>Buenos Aires, Argentina</td>\n",
       "      <td>via BeBee</td>\n",
       "      <td>Full-time</td>\n",
       "      <td>False</td>\n",
       "      <td>Argentina</td>\n",
       "      <td>2023-10-19 04:32:40</td>\n",
       "      <td>True</td>\n",
       "      <td>False</td>\n",
       "      <td>Argentina</td>\n",
       "      <td>NaN</td>\n",
       "      <td>NaN</td>\n",
       "      <td>NaN</td>\n",
       "      <td>Emprego</td>\n",
       "      <td>[linux, docker, kubernetes, jira]</td>\n",
       "      <td>{'async': ['jira'], 'os': ['linux'], 'other': ...</td>\n",
       "    </tr>\n",
       "    <tr>\n",
       "      <th>680550</th>\n",
       "      <td>Software Engineer</td>\n",
       "      <td>Senior Electronic Developer</td>\n",
       "      <td>Luleå, Sweden</td>\n",
       "      <td>via Trabajo.org</td>\n",
       "      <td>Full-time</td>\n",
       "      <td>False</td>\n",
       "      <td>Sweden</td>\n",
       "      <td>2023-09-21 10:31:15</td>\n",
       "      <td>False</td>\n",
       "      <td>False</td>\n",
       "      <td>Sweden</td>\n",
       "      <td>NaN</td>\n",
       "      <td>NaN</td>\n",
       "      <td>NaN</td>\n",
       "      <td>Tech Invest North</td>\n",
       "      <td>[assembly]</td>\n",
       "      <td>{'programming': ['assembly']}</td>\n",
       "    </tr>\n",
       "  </tbody>\n",
       "</table>\n",
       "</div>"
      ],
      "text/plain": [
       "                      job                      full_name  \\\n",
       "565977  Software Engineer  Support & Deployment Engineer   \n",
       "680550  Software Engineer    Senior Electronic Developer   \n",
       "\n",
       "                       location              via   schedule  work_from_home  \\\n",
       "565977  Buenos Aires, Argentina        via BeBee  Full-time           False   \n",
       "680550            Luleå, Sweden  via Trabajo.org  Full-time           False   \n",
       "\n",
       "       search_location           posted_dt  no_degree  health_ins    country  \\\n",
       "565977       Argentina 2023-10-19 04:32:40       True       False  Argentina   \n",
       "680550          Sweden 2023-09-21 10:31:15      False       False     Sweden   \n",
       "\n",
       "       salrate  salyr  salhr            company  \\\n",
       "565977     NaN    NaN    NaN            Emprego   \n",
       "680550     NaN    NaN    NaN  Tech Invest North   \n",
       "\n",
       "                                   skills  \\\n",
       "565977  [linux, docker, kubernetes, jira]   \n",
       "680550                         [assembly]   \n",
       "\n",
       "                                                skilltype  \n",
       "565977  {'async': ['jira'], 'os': ['linux'], 'other': ...  \n",
       "680550                      {'programming': ['assembly']}  "
      ]
     },
     "execution_count": 54,
     "metadata": {},
     "output_type": "execute_result"
    }
   ],
   "source": [
    "df.sample(2)"
   ]
  },
  {
   "cell_type": "markdown",
   "metadata": {},
   "source": [
    "Filtering and Copying"
   ]
  },
  {
   "cell_type": "markdown",
   "metadata": {},
   "source": [
    "- **Creating a New DataFrame:** creating a new dataframe 'df_ind' that contains only the rows from the original dataframe 'df' where the 'country' column has the value 'India'.\n",
    "  \n",
    "- **Copying Data:** using the `.copy()` method to copy the filtered data for further processing, ensuring that changes to `df_ind` do not affect `df`.\n"
   ]
  },
  {
   "cell_type": "code",
   "execution_count": 55,
   "metadata": {},
   "outputs": [
    {
     "data": {
      "text/html": [
       "<div>\n",
       "<style scoped>\n",
       "    .dataframe tbody tr th:only-of-type {\n",
       "        vertical-align: middle;\n",
       "    }\n",
       "\n",
       "    .dataframe tbody tr th {\n",
       "        vertical-align: top;\n",
       "    }\n",
       "\n",
       "    .dataframe thead th {\n",
       "        text-align: right;\n",
       "    }\n",
       "</style>\n",
       "<table border=\"1\" class=\"dataframe\">\n",
       "  <thead>\n",
       "    <tr style=\"text-align: right;\">\n",
       "      <th></th>\n",
       "      <th>job</th>\n",
       "      <th>full_name</th>\n",
       "      <th>location</th>\n",
       "      <th>via</th>\n",
       "      <th>schedule</th>\n",
       "      <th>work_from_home</th>\n",
       "      <th>search_location</th>\n",
       "      <th>posted_dt</th>\n",
       "      <th>no_degree</th>\n",
       "      <th>health_ins</th>\n",
       "      <th>country</th>\n",
       "      <th>salrate</th>\n",
       "      <th>salyr</th>\n",
       "      <th>salhr</th>\n",
       "      <th>company</th>\n",
       "      <th>skills</th>\n",
       "      <th>skilltype</th>\n",
       "    </tr>\n",
       "  </thead>\n",
       "  <tbody>\n",
       "    <tr>\n",
       "      <th>510112</th>\n",
       "      <td>Senior Data Scientist</td>\n",
       "      <td>Senior Data Scientist</td>\n",
       "      <td>India</td>\n",
       "      <td>via LinkedIn</td>\n",
       "      <td>Full-time</td>\n",
       "      <td>False</td>\n",
       "      <td>India</td>\n",
       "      <td>2023-11-03 11:10:37</td>\n",
       "      <td>False</td>\n",
       "      <td>False</td>\n",
       "      <td>India</td>\n",
       "      <td>NaN</td>\n",
       "      <td>NaN</td>\n",
       "      <td>NaN</td>\n",
       "      <td>Ingersoll Rand</td>\n",
       "      <td>[python, sql, excel, flow]</td>\n",
       "      <td>{'analyst_tools': ['excel'], 'other': ['flow']...</td>\n",
       "    </tr>\n",
       "    <tr>\n",
       "      <th>323672</th>\n",
       "      <td>Senior Data Engineer</td>\n",
       "      <td>Senior Data Engineer</td>\n",
       "      <td>Anywhere</td>\n",
       "      <td>via Indeed</td>\n",
       "      <td>Full-time</td>\n",
       "      <td>True</td>\n",
       "      <td>India</td>\n",
       "      <td>2023-05-05 17:30:13</td>\n",
       "      <td>False</td>\n",
       "      <td>False</td>\n",
       "      <td>India</td>\n",
       "      <td>NaN</td>\n",
       "      <td>NaN</td>\n",
       "      <td>NaN</td>\n",
       "      <td>Atlassian</td>\n",
       "      <td>[mongo, sql, databricks, redshift, spark, airf...</td>\n",
       "      <td>{'cloud': ['databricks', 'redshift'], 'librari...</td>\n",
       "    </tr>\n",
       "  </tbody>\n",
       "</table>\n",
       "</div>"
      ],
      "text/plain": [
       "                          job              full_name  location           via  \\\n",
       "510112  Senior Data Scientist  Senior Data Scientist     India  via LinkedIn   \n",
       "323672   Senior Data Engineer   Senior Data Engineer  Anywhere    via Indeed   \n",
       "\n",
       "         schedule  work_from_home search_location           posted_dt  \\\n",
       "510112  Full-time           False           India 2023-11-03 11:10:37   \n",
       "323672  Full-time            True           India 2023-05-05 17:30:13   \n",
       "\n",
       "        no_degree  health_ins country salrate  salyr  salhr         company  \\\n",
       "510112      False       False   India     NaN    NaN    NaN  Ingersoll Rand   \n",
       "323672      False       False   India     NaN    NaN    NaN       Atlassian   \n",
       "\n",
       "                                                   skills  \\\n",
       "510112                         [python, sql, excel, flow]   \n",
       "323672  [mongo, sql, databricks, redshift, spark, airf...   \n",
       "\n",
       "                                                skilltype  \n",
       "510112  {'analyst_tools': ['excel'], 'other': ['flow']...  \n",
       "323672  {'cloud': ['databricks', 'redshift'], 'librari...  "
      ]
     },
     "execution_count": 55,
     "metadata": {},
     "output_type": "execute_result"
    }
   ],
   "source": [
    "df_ind = df[df['country']== 'India'].copy()\n",
    "df_ind.sample(2)"
   ]
  },
  {
   "cell_type": "markdown",
   "metadata": {},
   "source": [
    "Exploding "
   ]
  },
  {
   "cell_type": "markdown",
   "metadata": {},
   "source": [
    "- **Expanding Skills Lists:** expanding the lists in the 'skills' column of `df_ind` into separate rows, where each skill in a list is placed into its own row and duplicating the other column values for each new row.\n",
    "\n",
    "- **Creating a New DataFrame:** creating a new dataframe `df_explode` from the expanded data."
   ]
  },
  {
   "cell_type": "code",
   "execution_count": 56,
   "metadata": {},
   "outputs": [
    {
     "data": {
      "text/html": [
       "<div>\n",
       "<style scoped>\n",
       "    .dataframe tbody tr th:only-of-type {\n",
       "        vertical-align: middle;\n",
       "    }\n",
       "\n",
       "    .dataframe tbody tr th {\n",
       "        vertical-align: top;\n",
       "    }\n",
       "\n",
       "    .dataframe thead th {\n",
       "        text-align: right;\n",
       "    }\n",
       "</style>\n",
       "<table border=\"1\" class=\"dataframe\">\n",
       "  <thead>\n",
       "    <tr style=\"text-align: right;\">\n",
       "      <th></th>\n",
       "      <th>job</th>\n",
       "      <th>full_name</th>\n",
       "      <th>location</th>\n",
       "      <th>via</th>\n",
       "      <th>schedule</th>\n",
       "      <th>work_from_home</th>\n",
       "      <th>search_location</th>\n",
       "      <th>posted_dt</th>\n",
       "      <th>no_degree</th>\n",
       "      <th>health_ins</th>\n",
       "      <th>country</th>\n",
       "      <th>salrate</th>\n",
       "      <th>salyr</th>\n",
       "      <th>salhr</th>\n",
       "      <th>company</th>\n",
       "      <th>skills</th>\n",
       "      <th>skilltype</th>\n",
       "    </tr>\n",
       "  </thead>\n",
       "  <tbody>\n",
       "    <tr>\n",
       "      <th>582519</th>\n",
       "      <td>Data Scientist</td>\n",
       "      <td>Data Scientist - Computational and Data Sciences</td>\n",
       "      <td>India</td>\n",
       "      <td>via SimplyHired</td>\n",
       "      <td>Full-time</td>\n",
       "      <td>False</td>\n",
       "      <td>India</td>\n",
       "      <td>2023-07-13 09:11:43</td>\n",
       "      <td>False</td>\n",
       "      <td>False</td>\n",
       "      <td>India</td>\n",
       "      <td>NaN</td>\n",
       "      <td>NaN</td>\n",
       "      <td>NaN</td>\n",
       "      <td>Syngene</td>\n",
       "      <td>aws</td>\n",
       "      <td>{'cloud': ['aws'], 'libraries': ['pandas', 'nu...</td>\n",
       "    </tr>\n",
       "    <tr>\n",
       "      <th>656009</th>\n",
       "      <td>Data Engineer</td>\n",
       "      <td>GCP Data Engineer</td>\n",
       "      <td>Bengaluru, Karnataka, India</td>\n",
       "      <td>via LinkedIn</td>\n",
       "      <td>Full-time</td>\n",
       "      <td>False</td>\n",
       "      <td>India</td>\n",
       "      <td>2023-06-21 10:13:11</td>\n",
       "      <td>False</td>\n",
       "      <td>False</td>\n",
       "      <td>India</td>\n",
       "      <td>NaN</td>\n",
       "      <td>NaN</td>\n",
       "      <td>NaN</td>\n",
       "      <td>Impetus</td>\n",
       "      <td>java</td>\n",
       "      <td>{'cloud': ['gcp'], 'libraries': ['hadoop', 'sp...</td>\n",
       "    </tr>\n",
       "  </tbody>\n",
       "</table>\n",
       "</div>"
      ],
      "text/plain": [
       "                   job                                         full_name  \\\n",
       "582519  Data Scientist  Data Scientist - Computational and Data Sciences   \n",
       "656009   Data Engineer                                 GCP Data Engineer   \n",
       "\n",
       "                           location              via   schedule  \\\n",
       "582519                        India  via SimplyHired  Full-time   \n",
       "656009  Bengaluru, Karnataka, India     via LinkedIn  Full-time   \n",
       "\n",
       "        work_from_home search_location           posted_dt  no_degree  \\\n",
       "582519           False           India 2023-07-13 09:11:43      False   \n",
       "656009           False           India 2023-06-21 10:13:11      False   \n",
       "\n",
       "        health_ins country salrate  salyr  salhr  company skills  \\\n",
       "582519       False   India     NaN    NaN    NaN  Syngene    aws   \n",
       "656009       False   India     NaN    NaN    NaN  Impetus   java   \n",
       "\n",
       "                                                skilltype  \n",
       "582519  {'cloud': ['aws'], 'libraries': ['pandas', 'nu...  \n",
       "656009  {'cloud': ['gcp'], 'libraries': ['hadoop', 'sp...  "
      ]
     },
     "execution_count": 56,
     "metadata": {},
     "output_type": "execute_result"
    }
   ],
   "source": [
    "df_explode = df_ind.explode('skills')\n",
    "df_explode.sample(2)"
   ]
  },
  {
   "cell_type": "markdown",
   "metadata": {},
   "source": [
    "Counting Occurrences"
   ]
  },
  {
   "cell_type": "markdown",
   "metadata": {},
   "source": [
    "\n",
    "   \n",
    "-  `df_ind['job'].value_counts()` = counting the occurrences of each unique value in the 'job' column of `df_ind`.\n",
    "\n",
    "-  `.reset_index(name='job count')` =\n",
    "   i. converting the series to a dataframe.\n",
    "   ii. `.reset_index()` turning the index (job titles) into a column, and the counts becoming a new column named 'job count'.\n"
   ]
  },
  {
   "cell_type": "code",
   "execution_count": 57,
   "metadata": {},
   "outputs": [
    {
     "data": {
      "text/html": [
       "<div>\n",
       "<style scoped>\n",
       "    .dataframe tbody tr th:only-of-type {\n",
       "        vertical-align: middle;\n",
       "    }\n",
       "\n",
       "    .dataframe tbody tr th {\n",
       "        vertical-align: top;\n",
       "    }\n",
       "\n",
       "    .dataframe thead th {\n",
       "        text-align: right;\n",
       "    }\n",
       "</style>\n",
       "<table border=\"1\" class=\"dataframe\">\n",
       "  <thead>\n",
       "    <tr style=\"text-align: right;\">\n",
       "      <th></th>\n",
       "      <th>job</th>\n",
       "      <th>job count</th>\n",
       "    </tr>\n",
       "  </thead>\n",
       "  <tbody>\n",
       "    <tr>\n",
       "      <th>0</th>\n",
       "      <td>Data Engineer</td>\n",
       "      <td>19062</td>\n",
       "    </tr>\n",
       "    <tr>\n",
       "      <th>1</th>\n",
       "      <td>Data Scientist</td>\n",
       "      <td>13279</td>\n",
       "    </tr>\n",
       "    <tr>\n",
       "      <th>2</th>\n",
       "      <td>Data Analyst</td>\n",
       "      <td>6121</td>\n",
       "    </tr>\n",
       "    <tr>\n",
       "      <th>3</th>\n",
       "      <td>Senior Data Engineer</td>\n",
       "      <td>4353</td>\n",
       "    </tr>\n",
       "    <tr>\n",
       "      <th>4</th>\n",
       "      <td>Senior Data Scientist</td>\n",
       "      <td>2486</td>\n",
       "    </tr>\n",
       "    <tr>\n",
       "      <th>5</th>\n",
       "      <td>Business Analyst</td>\n",
       "      <td>1887</td>\n",
       "    </tr>\n",
       "    <tr>\n",
       "      <th>6</th>\n",
       "      <td>Software Engineer</td>\n",
       "      <td>1795</td>\n",
       "    </tr>\n",
       "    <tr>\n",
       "      <th>7</th>\n",
       "      <td>Senior Data Analyst</td>\n",
       "      <td>1083</td>\n",
       "    </tr>\n",
       "    <tr>\n",
       "      <th>8</th>\n",
       "      <td>Machine Learning Engineer</td>\n",
       "      <td>671</td>\n",
       "    </tr>\n",
       "    <tr>\n",
       "      <th>9</th>\n",
       "      <td>Cloud Engineer</td>\n",
       "      <td>351</td>\n",
       "    </tr>\n",
       "  </tbody>\n",
       "</table>\n",
       "</div>"
      ],
      "text/plain": [
       "                         job  job count\n",
       "0              Data Engineer      19062\n",
       "1             Data Scientist      13279\n",
       "2               Data Analyst       6121\n",
       "3       Senior Data Engineer       4353\n",
       "4      Senior Data Scientist       2486\n",
       "5           Business Analyst       1887\n",
       "6          Software Engineer       1795\n",
       "7        Senior Data Analyst       1083\n",
       "8  Machine Learning Engineer        671\n",
       "9             Cloud Engineer        351"
      ]
     },
     "execution_count": 57,
     "metadata": {},
     "output_type": "execute_result"
    }
   ],
   "source": [
    "df_jobs = df_ind['job'].value_counts().reset_index(name='job count')\n",
    "df_jobs"
   ]
  },
  {
   "cell_type": "markdown",
   "metadata": {},
   "source": [
    "Aggregating and Sorting "
   ]
  },
  {
   "cell_type": "markdown",
   "metadata": {},
   "source": [
    "- **Grouping and Counting:** grouping the `df_explode` by both 'job' and 'skills', then calculating the count of each skill for each job title. this results in a series with a multiIndex (job and skills) and counts as values.\n",
    "\n",
    "- **Converting to DataFrame:** converting the series into a dataframe with 'job', 'skills', and 'skill count' columns, where 'skill count' contains the counts of each skill for each job.\n",
    "\n",
    "- **Sorting DataFrame:** sorting the dataframe in descending order based on 'skill count', so the most common skills appear first."
   ]
  },
  {
   "cell_type": "code",
   "execution_count": 58,
   "metadata": {},
   "outputs": [
    {
     "data": {
      "text/html": [
       "<div>\n",
       "<style scoped>\n",
       "    .dataframe tbody tr th:only-of-type {\n",
       "        vertical-align: middle;\n",
       "    }\n",
       "\n",
       "    .dataframe tbody tr th {\n",
       "        vertical-align: top;\n",
       "    }\n",
       "\n",
       "    .dataframe thead th {\n",
       "        text-align: right;\n",
       "    }\n",
       "</style>\n",
       "<table border=\"1\" class=\"dataframe\">\n",
       "  <thead>\n",
       "    <tr style=\"text-align: right;\">\n",
       "      <th></th>\n",
       "      <th>job</th>\n",
       "      <th>skills</th>\n",
       "      <th>skill count</th>\n",
       "    </tr>\n",
       "  </thead>\n",
       "  <tbody>\n",
       "    <tr>\n",
       "      <th>637</th>\n",
       "      <td>Data Engineer</td>\n",
       "      <td>sql</td>\n",
       "      <td>12993</td>\n",
       "    </tr>\n",
       "    <tr>\n",
       "      <th>603</th>\n",
       "      <td>Data Engineer</td>\n",
       "      <td>python</td>\n",
       "      <td>11568</td>\n",
       "    </tr>\n",
       "    <tr>\n",
       "      <th>807</th>\n",
       "      <td>Data Scientist</td>\n",
       "      <td>python</td>\n",
       "      <td>9248</td>\n",
       "    </tr>\n",
       "    <tr>\n",
       "      <th>632</th>\n",
       "      <td>Data Engineer</td>\n",
       "      <td>spark</td>\n",
       "      <td>7157</td>\n",
       "    </tr>\n",
       "    <tr>\n",
       "      <th>480</th>\n",
       "      <td>Data Engineer</td>\n",
       "      <td>aws</td>\n",
       "      <td>6993</td>\n",
       "    </tr>\n",
       "    <tr>\n",
       "      <th>...</th>\n",
       "      <td>...</td>\n",
       "      <td>...</td>\n",
       "      <td>...</td>\n",
       "    </tr>\n",
       "    <tr>\n",
       "      <th>1472</th>\n",
       "      <td>Senior Data Scientist</td>\n",
       "      <td>svn</td>\n",
       "      <td>1</td>\n",
       "    </tr>\n",
       "    <tr>\n",
       "      <th>998</th>\n",
       "      <td>Machine Learning Engineer</td>\n",
       "      <td>svn</td>\n",
       "      <td>1</td>\n",
       "    </tr>\n",
       "    <tr>\n",
       "      <th>138</th>\n",
       "      <td>Business Analyst</td>\n",
       "      <td>twilio</td>\n",
       "      <td>1</td>\n",
       "    </tr>\n",
       "    <tr>\n",
       "      <th>835</th>\n",
       "      <td>Data Scientist</td>\n",
       "      <td>solidity</td>\n",
       "      <td>1</td>\n",
       "    </tr>\n",
       "    <tr>\n",
       "      <th>139</th>\n",
       "      <td>Business Analyst</td>\n",
       "      <td>ubuntu</td>\n",
       "      <td>1</td>\n",
       "    </tr>\n",
       "  </tbody>\n",
       "</table>\n",
       "<p>1689 rows × 3 columns</p>\n",
       "</div>"
      ],
      "text/plain": [
       "                            job    skills  skill count\n",
       "637               Data Engineer       sql        12993\n",
       "603               Data Engineer    python        11568\n",
       "807              Data Scientist    python         9248\n",
       "632               Data Engineer     spark         7157\n",
       "480               Data Engineer       aws         6993\n",
       "...                         ...       ...          ...\n",
       "1472      Senior Data Scientist       svn            1\n",
       "998   Machine Learning Engineer       svn            1\n",
       "138            Business Analyst    twilio            1\n",
       "835              Data Scientist  solidity            1\n",
       "139            Business Analyst    ubuntu            1\n",
       "\n",
       "[1689 rows x 3 columns]"
      ]
     },
     "execution_count": 58,
     "metadata": {},
     "output_type": "execute_result"
    }
   ],
   "source": [
    "df_skills = df_explode.groupby(['job','skills'])['skills'].agg('size')\n",
    "df_skills = df_skills.reset_index(name='skill count')\n",
    "df_skills.sort_values(by='skill count',ascending=False,inplace=True)\n",
    "\n",
    "df_skills"
   ]
  },
  {
   "cell_type": "markdown",
   "metadata": {},
   "source": [
    "Extracting and Selecting"
   ]
  },
  {
   "cell_type": "markdown",
   "metadata": {},
   "source": [
    "- **Extracting Unique Job Titles:** `df_skills['job'].unique().tolist()` extracts the unique job titles from the 'job' column of `df_skills` and converts them to a list.\n",
    "\n",
    "- **Sorting Job Titles:** `sorted(job_titles[:3])` selects the first three job titles from the list and sorts them alphabetically."
   ]
  },
  {
   "cell_type": "code",
   "execution_count": 59,
   "metadata": {},
   "outputs": [
    {
     "data": {
      "text/plain": [
       "['Data Analyst', 'Data Engineer', 'Data Scientist']"
      ]
     },
     "execution_count": 59,
     "metadata": {},
     "output_type": "execute_result"
    }
   ],
   "source": [
    "job_titles = df_skills['job'].unique().tolist()\n",
    "job_titles = sorted(job_titles[:3])\n",
    "\n",
    "job_titles"
   ]
  },
  {
   "cell_type": "markdown",
   "metadata": {},
   "source": [
    "Merging DataFrames"
   ]
  },
  {
   "cell_type": "markdown",
   "metadata": {},
   "source": [
    "- **Merging Job Counts with Skill Counts:**\n",
    "  - merging the `df_skills` and `df_jobs` dataframes\n",
    "  - on the 'job' column using an inner join\n",
    "  - the new dataframe `df_jobs_skills` will contain the job titles along with their skill counts and job counts, including only the job titles that appear in both original dataframes"
   ]
  },
  {
   "cell_type": "code",
   "execution_count": 60,
   "metadata": {},
   "outputs": [],
   "source": [
    "df_jobs_skills = pd.merge(df_skills, df_jobs, on='job', how='inner')"
   ]
  },
  {
   "cell_type": "markdown",
   "metadata": {},
   "source": [
    "Calculating  Skill Percentages"
   ]
  },
  {
   "cell_type": "markdown",
   "metadata": {},
   "source": [
    "- **Creating Skill Percentage Column:** creating a new column 'skill %' in the `df_jobs_skills`, which gives the percentage of each skill relative to the total number of job postings for that job title.\n",
    "\n",
    "- **Rounding Result:** rounding the result to one decimal place."
   ]
  },
  {
   "cell_type": "code",
   "execution_count": 61,
   "metadata": {},
   "outputs": [
    {
     "data": {
      "text/plain": [
       "0       68.2\n",
       "1       60.7\n",
       "2       69.6\n",
       "3       37.5\n",
       "4       36.7\n",
       "        ... \n",
       "1684     0.0\n",
       "1685     0.1\n",
       "1686     0.1\n",
       "1687     0.0\n",
       "1688     0.1\n",
       "Name: skill %, Length: 1689, dtype: float64"
      ]
     },
     "execution_count": 61,
     "metadata": {},
     "output_type": "execute_result"
    }
   ],
   "source": [
    "df_jobs_skills ['skill %'] = (100*  (df_jobs_skills['skill count']/df_jobs_skills['job count'])).round(1)\n",
    "df_jobs_skills['skill %']"
   ]
  },
  {
   "cell_type": "markdown",
   "metadata": {},
   "source": [
    "Plotting Top Skills by Job Title"
   ]
  },
  {
   "cell_type": "code",
   "execution_count": 72,
   "metadata": {},
   "outputs": [
    {
     "data": {
      "image/png": "[encoded data removed]",
      "text/plain": [
       "<Figure size 800x700 with 3 Axes>"
      ]
     },
     "metadata": {},
     "output_type": "display_data"
    }
   ],
   "source": [
    "import matplotlib.colors as mcolors\n",
    "\n",
    "# Defining the gradient color palette\n",
    "gradient_palette = mcolors.LinearSegmentedColormap.from_list(\n",
    "    'gradient_palette', ['#a09ebb', '#666578'], N=100  #807E96\n",
    ")\n",
    "\n",
    "# Setting Up for Plot\n",
    "sns.set_theme(style='ticks')\n",
    "fig, ax = plt.subplots(len(job_titles), 1, figsize=(8,7))\n",
    "\n",
    "# Creating Plot\n",
    "for i, job_name in enumerate(job_titles):\n",
    "    df_plt = df_jobs_skills[df_jobs_skills['job'] == job_name].head(5)\n",
    "    # Applying the gradient palette by mapping skill counts to color values\n",
    "    sns.barplot(data=df_plt, x='skill %', y='skills', ax=ax[i], \n",
    "                hue='skill count', palette=gradient_palette)\n",
    "\n",
    "    # Modifying Axes and Labels\n",
    "    ax[i].set_title(job_name)\n",
    "    ax[i].set_ylabel('')\n",
    "    ax[i].set_xlabel('')\n",
    "    ax[i].get_legend().remove()\n",
    "    ax[i].set_xlim(0, 100)\n",
    "\n",
    "    # Removeing the x-axis tick labels for better readability\n",
    "    if i != len(job_titles) - 1:\n",
    "        ax[i].set_xticks([])\n",
    "\n",
    "    # Labeling the percentage on the bars\n",
    "    for p, q in enumerate(df_plt['skill %']):\n",
    "        ax[i].text(q + 1, p, f'{q:.0f}%', va='center')\n",
    "\n",
    "# Modifying the entire figure\n",
    "plt.suptitle('Frequency of Skill Requests in Indian Job Postings')\n",
    "\n",
    "# Displaying the plot\n",
    "plt.tight_layout()\n",
    "plt.show()\n"
   ]
  },
  {
   "cell_type": "markdown",
   "metadata": {},
   "source": [
    "`End`\n",
    "---"
   ]
  },
  {
   "cell_type": "markdown",
   "metadata": {},
   "source": [
    "---"
   ]
  }
 ],
 "metadata": {
  "kernelspec": {
   "display_name": "adv_environment",
   "language": "python",
   "name": "python3"
  },
  "language_info": {
   "codemirror_mode": {
    "name": "ipython",
    "version": 3
   },
   "file_extension": ".py",
   "mimetype": "text/x-python",
   "name": "python",
   "nbconvert_exporter": "python",
   "pygments_lexer": "ipython3",
   "version": "3.11.9"
  }
 },
 "nbformat": 4,
 "nbformat_minor": 2
}
