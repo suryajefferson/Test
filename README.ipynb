{
 "cells": [
  {
   "cell_type": "code",
   "execution_count": null,
   "metadata": {},
   "outputs": [],
   "source": []
  },
  {
   "cell_type": "code",
   "execution_count": null,
   "metadata": {},
   "outputs": [],
   "source": [
    "import pandas as pd\n",
    "import numpy as np\n",
    "import matplotlib.pyplot as plt\n",
    "import ast  \n",
    "import seaborn as sns"
   ]
  },
  {
   "cell_type": "code",
   "execution_count": null,
   "metadata": {},
   "outputs": [],
   "source": [
    "df = pd.read_csv(r'D:\\Python\\data_jobs.csv')\n",
    "new_columns = ['job', 'full_name', 'location', 'via', 'schedule', 'work_from_home','search_location','posted_dt','no_degree','health_ins','country','salrate','salyr','salhr','company','skills','skilltype']\n",
    "df.columns = new_columns\n",
    "\n",
    "# data clean up\n",
    "df['posted_dt'] = pd.to_datetime(df['posted_dt'])                                                                # converting the column from string format to date time format\n",
    "df['skills'] = df['skills'].apply(lambda gg: ast.literal_eval(gg) if pd.notna(gg) else gg)                       # converts job_skills from sting to list\n",
    "df.dropna(subset=['salyr'],inplace=True)"
   ]
  },
  {
   "cell_type": "markdown",
   "metadata": {},
   "source": [
    "##### ind"
   ]
  },
  {
   "cell_type": "code",
   "execution_count": null,
   "metadata": {},
   "outputs": [],
   "source": [
    "df_ind = df[(df['job']== 'Data Analyst') & (df['country']== 'India')].copy()\n",
    "df_ind_exp = df_ind.explode('skills')\n",
    "df_ind_exp"
   ]
  },
  {
   "cell_type": "code",
   "execution_count": null,
   "metadata": {},
   "outputs": [],
   "source": [
    "df_ind_table = df_ind_exp.groupby('skills')['salyr'].agg(['median', 'count']).sort_values(by='count', ascending=False)"
   ]
  },
  {
   "cell_type": "code",
   "execution_count": null,
   "metadata": {},
   "outputs": [],
   "source": [
    "df_ind_table['skill_percent'] = df_ind_table['count']/len(df_ind) * 100"
   ]
  },
  {
   "cell_type": "code",
   "execution_count": null,
   "metadata": {},
   "outputs": [],
   "source": [
    "df_ind_table"
   ]
  },
  {
   "cell_type": "markdown",
   "metadata": {},
   "source": [
    "converting skilltype column to dict that has all related slills"
   ]
  },
  {
   "cell_type": "code",
   "execution_count": null,
   "metadata": {},
   "outputs": [],
   "source": [
    "df_tech = df_ind['skilltype'].copy()\n",
    "\n",
    "# remove duplicates\n",
    "df_tech = df_tech.drop_duplicates()\n",
    "\n",
    "# remove NaN values\n",
    "df_tech = df_tech.dropna()\n",
    "\n",
    "# combine all dictionaries into one\n",
    "tech_dict = {}\n",
    "for row in df_tech:\n",
    "    row_dict = ast.literal_eval(row)  # convert string to dictionary\n",
    "    for key, value in row_dict.items():\n",
    "        if key in tech_dict:  # if key already exists in tech_dict, add value to existing value\n",
    "            tech_dict[key] += value\n",
    "        else:                       # if key does not exist in tech_dict, add key and value\n",
    "            tech_dict[key] = value\n",
    "\n",
    "# remove duplicates by converting values to set then back to list\n",
    "for key, value in tech_dict.items():\n",
    "    tech_dict[key] = list(set(value))\n",
    "\n",
    "tech_dict"
   ]
  },
  {
   "cell_type": "code",
   "execution_count": null,
   "metadata": {},
   "outputs": [],
   "source": [
    "# turn dictionary into dataframe\n",
    "df_tech = pd.DataFrame(list(tech_dict.items()), columns=['technology', 'skills'])\n",
    "df_tech = df_tech.explode('skills')\n",
    "df_tech"
   ]
  },
  {
   "cell_type": "code",
   "execution_count": null,
   "metadata": {},
   "outputs": [],
   "source": [
    "# merge df_DA_skills and df_technology\n",
    "df_ind_table_tech = df_ind_table.merge(df_tech, left_on='skills', right_on='skills')\n",
    "df_ind_table_tech"
   ]
  },
  {
   "cell_type": "code",
   "execution_count": null,
   "metadata": {},
   "outputs": [],
   "source": [
    "df_ind_plot = df_ind_table_tech[df_ind_table_tech['skill_percent'] > 5]\n",
    "df_ind_plot.set_index('skills', inplace= True)\n",
    "df_ind_plot"
   ]
  },
  {
   "cell_type": "code",
   "execution_count": null,
   "metadata": {},
   "outputs": [],
   "source": [
    "\n",
    "from adjustText import adjust_text\n",
    "from matplotlib.ticker import PercentFormatter\n",
    "\n",
    "# Initialize the plot\n",
    "plt.figure(figsize=(10, 6))\n",
    "\n",
    "# Scatter plot\n",
    "sns.scatterplot(\n",
    "    data=df_ind_plot,\n",
    "    x='skill_percent',\n",
    "    y='median',\n",
    "    hue='technology'\n",
    ")\n",
    "\n",
    "# Despine and set theme\n",
    "sns.despine()\n",
    "sns.set_theme(style='ticks')\n",
    "\n",
    "# Prepare texts for adjuktText\n",
    "texts = []\n",
    "for i, txt in enumerate(df_ind_plot.index):\n",
    "    texts.append(plt.text(df_ind_plot['skill_percent'].iloc[i], df_ind_plot['median'].iloc[i], txt))\n",
    "\n",
    "# Adjukt text to avoid overlap\n",
    "adjust_text(texts, arrowprops=dict(arrowstyle='->', color='gray'))\n",
    "\n",
    "# Set axis labels, title, and legend\n",
    "plt.xlabel('How Often Skills Appear in Job Postings')\n",
    "plt.ylabel('Median Yearly Salary')\n",
    "plt.title('Most Optimal Skills for Data Analysts in the India')\n",
    "plt.legend(title='Technology')\n",
    "\n",
    "# Format axis\n",
    "ax = plt.gca()\n",
    "ax.yaxis.set_major_formatter(plt.FuncFormatter(lambda y, pos: f'${int(y/1000)}K'))\n",
    "ax.xaxis.set_major_formatter(PercentFormatter(decimals=0))\n",
    "\n",
    "# Adjukt layout and display plot \n",
    "plt.tight_layout()\n",
    "plt.show()\n"
   ]
  },
  {
   "cell_type": "markdown",
   "metadata": {},
   "source": [
    "plotting for top 4 Data jobs "
   ]
  },
  {
   "cell_type": "code",
   "execution_count": null,
   "metadata": {},
   "outputs": [],
   "source": [
    "top4_jobs = df['job'].value_counts().head(4).index.to_list()\n",
    "job_country = ['India']\n",
    "\n",
    "print(top4_jobs)\n",
    "print(job_country)"
   ]
  },
  {
   "cell_type": "code",
   "execution_count": null,
   "metadata": {},
   "outputs": [],
   "source": [
    "\n",
    "dict_df = {}\n",
    "for i in top4_jobs:\n",
    "\n",
    "    df_da = df[(df['job']== i) & (df['country']== 'India' )].copy()\n",
    "    df_da_exp = df_da.explode('skills')\n",
    "    df_da_table = df_da_exp.groupby('skills')['salyr'].agg(['median', 'count']).sort_values(by='count', ascending=False)\n",
    "    df_da_table['skill_percent'] = df_da_table['count']/len(df_da) * 100\n",
    "\n",
    "\n",
    "    df_tech = df_da['skilltype'].copy()\n",
    "    df_tech = df_tech.drop_duplicates()\n",
    "    df_tech = df_tech.dropna()\n",
    "    \n",
    "    tech_dict = {}\n",
    "    for row in df_tech:\n",
    "        row_dict = ast.literal_eval(row)  # convert string to dictionary\n",
    "        for key, value in row_dict.items():\n",
    "            if key in tech_dict:  # if key already exists in tech_dict, add value to existing value\n",
    "                tech_dict[key] += value\n",
    "            else:                       # if key does not exist in tech_dict, add key and value\n",
    "                tech_dict[key] = value\n",
    "    for key, value in tech_dict.items():\n",
    "        tech_dict[key] = list(set(value))\n",
    "\n",
    "\n",
    "    df_tech = pd.DataFrame(list(tech_dict.items()), columns=['technology', 'skills'])\n",
    "    df_tech = df_tech.explode('skills')\n",
    "\n",
    "    df_da_table_tech = df_da_table.merge(df_tech, left_on='skills', right_on='skills')\n",
    "\n",
    "    df_da_plot = df_da_table_tech[df_da_table_tech['skill_percent'] > 15] if i != 'Data Engineer' else df_da_table_tech[df_da_table_tech['count'] > 40]\n",
    "    df_da_plot.set_index('skills', inplace= True)\n",
    "\n",
    "\n",
    "    dict_df[i] = df_da_plot\n"
   ]
  },
  {
   "cell_type": "code",
   "execution_count": null,
   "metadata": {},
   "outputs": [],
   "source": [
    "dict_df['Data Engineer']"
   ]
  },
  {
   "cell_type": "code",
   "execution_count": null,
   "metadata": {},
   "outputs": [],
   "source": [
    "\n",
    "from adjustText import adjust_text\n",
    "from matplotlib.ticker import PercentFormatter\n",
    "\n",
    "\n",
    "fig, ax = plt.subplots(2, 2, figsize= (12,8)) \n",
    "\n",
    "positions = [(0, 0), (0, 1), (1, 0), (1, 1)] \n",
    "\n",
    "for index, (key, value) in enumerate(dict_df.items()):\n",
    "    if index < len(positions):\n",
    "        i, j = positions[index]\n",
    "        sns.scatterplot(data=value, x='skill_percent', y='median', hue='technology', ax=ax[i, j])\n",
    "\n",
    "        texts = []\n",
    "        for p, txt in enumerate(value.index):\n",
    "            texts.append(ax[i,j].text(value['skill_percent'].iloc[p], value['median'].iloc[p], txt, fontsize=9))\n",
    "\n",
    "        # Adjust text to avoid overlap\n",
    "        adjust_text(texts,ax=ax[i,j],arrowprops=dict(arrowstyle='->', color='gray'))\n",
    "\n",
    "\n",
    "        ax[i,j].xaxis.set_major_formatter(PercentFormatter(decimals=0))\n",
    "        ax[i, j].yaxis.set_major_formatter(plt.FuncFormatter(lambda y, _: f'${int(y/1000)}K'))\n",
    "        ax[i,j].set_title(key)\n",
    "        ax[i, j].legend(fontsize='small')\n",
    "\n",
    "ax[0,0].set_xlabel('')\n",
    "ax[0,1].set_xlabel('')\n",
    "ax[1,0].set_xlabel('How Often Skills Appear in Job Postings')\n",
    "ax[1,1].set_xlabel('How Often Skills Appear in Job Postings')\n",
    "ax[0,0].set_ylabel('Median Salary')\n",
    "ax[1,0].set_ylabel('Median Salary')\n",
    "ax[0,1].set_ylabel('')\n",
    "ax[1,1].set_ylabel('')\n",
    "\n",
    "        \n",
    "# Adjust layout and display the plot\n",
    "plt.suptitle('Optimal Skills to Learn for Top 4 Data Jobs in India',y=1)\n",
    "plt.tight_layout()\n",
    "plt.show()\n"
   ]
  },
  {
   "cell_type": "code",
   "execution_count": null,
   "metadata": {},
   "outputs": [],
   "source": [
    "from adjustText import adjust_text                                      # Import adjust_text for adjusting text labels to avoid overlap\n",
    "from matplotlib.ticker import PercentFormatter                          # Import PercentFormatter for formatting y-axis values as percentages\n",
    "\n",
    "fig, ax = plt.subplots(2, 2, figsize=(12, 8)) # Create a 2x2 grid of subplots with a figure size of 12x8 inches\n",
    "\n",
    "\n",
    "positions = [(0, 0), (0, 1), (1, 0), (1, 1)] # Define the positions for the subplots in the 2x2 grid\n",
    "\n",
    "\n",
    "for index, (key, value) in enumerate(dict_df.items()): # Iterate through each item in the dictionary dict_df\n",
    "\n",
    "    if index < len(positions):    # Check if the current index is within the range of defined positions\n",
    "\n",
    "        i, j = positions[index]         # Get the subplot grid position\n",
    "\n",
    "        sns.scatterplot(data=value, x='skill_percent', y='median', hue='technology', ax=ax[i, j])         # Create a scatter plot on the specified subplot with data from the dictionary\n",
    "\n",
    "         # Adjust text positions to avoid overlap\n",
    "        texts = []\n",
    "        for p, txt in enumerate(value.index):         # Iterate through the index of the DataFrame to add text labels\n",
    "\n",
    "            # Add text labels to the scatter plot at the data points\n",
    "            texts.append(ax[i, j].text(value['skill_percent'].iloc[p], value['median'].iloc[p], txt, fontsize=9))\n",
    "\n",
    "        # Adjust text positions to avoid overlap, with arrows indicating adjustments\n",
    "        adjust_text(texts, ax=ax[i, j], arrowprops=dict(arrowstyle='->', color='gray'))\n",
    "\n",
    "        # Format the x-axis to show percentages with no decimal places\n",
    "        ax[i, j].xaxis.set_major_formatter(PercentFormatter(decimals=0))\n",
    "        # Format the y-axis to display values as thousands of dollars (e.g., $100K)\n",
    "        ax[i, j].yaxis.set_major_formatter(plt.FuncFormatter(lambda y, _: f'${int(y/1000)}K'))\n",
    "        # Set the title of the subplot to the current key from the dictionary\n",
    "        ax[i, j].set_title(key)\n",
    "        # Add a legend to the subplot with a small font size\n",
    "        ax[i, j].legend(fontsize='small')\n",
    "\n",
    "# Customize x-axis and y-axis labels for each subplot\n",
    "ax[0, 0].set_xlabel('')\n",
    "ax[0, 1].set_xlabel('')\n",
    "ax[1, 0].set_xlabel('How Often Skills Appear in Job Postings')\n",
    "ax[1, 1].set_xlabel('How Often Skills Appear in Job Postings')\n",
    "ax[0, 0].set_ylabel('Median Salary')\n",
    "ax[1, 0].set_ylabel('Median Salary')\n",
    "ax[0, 1].set_ylabel('')\n",
    "ax[1, 1].set_ylabel('')\n",
    "\n",
    "# Add a title for the entire figure and adjust its vertical position\n",
    "plt.suptitle('Optimal Skills to Learn for Top 4 Data Jobs in India', y=1)\n",
    "\n",
    "# Adjust subplot parameters to give specified padding and prevent overlaps\n",
    "plt.tight_layout()\n",
    "\n",
    "# Display the figure with all subplots and settings\n",
    "plt.show()\n"
   ]
  }
 ],
 "metadata": {
  "kernelspec": {
   "display_name": "adv_environment",
   "language": "python",
   "name": "python3"
  },
  "language_info": {
   "codemirror_mode": {
    "name": "ipython",
    "version": 3
   },
   "file_extension": ".py",
   "mimetype": "text/x-python",
   "name": "python",
   "nbconvert_exporter": "python",
   "pygments_lexer": "ipython3",
   "version": "3.11.9"
  }
 },
 "nbformat": 4,
 "nbformat_minor": 2
}
